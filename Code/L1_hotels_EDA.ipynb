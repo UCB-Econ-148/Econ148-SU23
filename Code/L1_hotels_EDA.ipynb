{
 "cells": [
  {
   "cell_type": "markdown",
   "metadata": {},
   "source": [
    "# L1 - EDA\n",
    "**CH01A Finding a Good Deal among Hotels: Data Collection**\n",
    "\n",
    "hotels-vienna dataset"
   ]
  },
  {
   "cell_type": "markdown",
   "metadata": {},
   "source": [
    "#### First look at the hotels data\n"
   ]
  },
  {
   "cell_type": "code",
   "execution_count": null,
   "metadata": {},
   "outputs": [],
   "source": [
    "import os\n",
    "import sys\n",
    "import warnings\n",
    "import numpy as np\n",
    "import pandas as pd\n",
    "import matplotlib.pyplot as plt\n",
    "import seaborn as sns\n",
    "warnings.filterwarnings(\"ignore\")"
   ]
  },
  {
   "cell_type": "code",
   "execution_count": null,
   "metadata": {},
   "outputs": [],
   "source": [
    "# load in clean and tidy data and create workfile\n",
    "df = pd.read_csv(\"hotels-vienna.csv\")"
   ]
  },
  {
   "cell_type": "code",
   "execution_count": null,
   "metadata": {},
   "outputs": [],
   "source": [
    "df"
   ]
  },
  {
   "cell_type": "code",
   "execution_count": null,
   "metadata": {
    "scrolled": true
   },
   "outputs": [],
   "source": [
    "df.describe()"
   ]
  },
  {
   "cell_type": "code",
   "execution_count": null,
   "metadata": {},
   "outputs": [],
   "source": [
    "df.columns"
   ]
  },
  {
   "cell_type": "code",
   "execution_count": null,
   "metadata": {},
   "outputs": [],
   "source": [
    "df.shape"
   ]
  },
  {
   "cell_type": "code",
   "execution_count": null,
   "metadata": {},
   "outputs": [],
   "source": [
    "############################################\n",
    "# First look\n",
    "############################################\n",
    "df = df.filter(\n",
    "    [\n",
    "        \"hotel_id\",\n",
    "        \"accommodation_type\",\n",
    "        \"country\",\n",
    "        \"city\",\n",
    "        \"city_actual\",\n",
    "        \"neighbourhood\",\n",
    "        \"center1label\",\n",
    "        \"distance\",\n",
    "        \"center2label\",\n",
    "        \"distance_alter\",\n",
    "        \"stars\",\n",
    "        \"rating\",\n",
    "        \"rating_count\",\n",
    "        \"ratingta\",\n",
    "        \"ratingta_count\",\n",
    "        \"year\",\n",
    "        \"month\",\n",
    "        \"weekend\",\n",
    "        \"holiday\",\n",
    "        \"nnights\",\n",
    "        \"price\",\n",
    "        \"scarce_room\",\n",
    "        \"offer\",\n",
    "        \"offer_cat\",\n",
    "    ]\n",
    ")"
   ]
  },
  {
   "cell_type": "code",
   "execution_count": null,
   "metadata": {},
   "outputs": [],
   "source": [
    "df.info()"
   ]
  },
  {
   "cell_type": "markdown",
   "metadata": {},
   "source": [
    "# Finding numerical variables and feature engineering for numerical variables"
   ]
  },
  {
   "cell_type": "code",
   "execution_count": null,
   "metadata": {},
   "outputs": [],
   "source": [
    "# find numerical variables\n",
    "numerical = [var for var in df.columns if df[var].dtype!='O']\n",
    "print('There are {} numerical variables\\n'.format(len(numerical)))\n",
    "print('The numerical variables are :', numerical)"
   ]
  },
  {
   "cell_type": "code",
   "execution_count": null,
   "metadata": {},
   "outputs": [],
   "source": [
    "# view the numerical variables\n",
    "df[numerical].head()"
   ]
  },
  {
   "cell_type": "code",
   "execution_count": null,
   "metadata": {},
   "outputs": [],
   "source": []
  },
  {
   "cell_type": "code",
   "execution_count": null,
   "metadata": {},
   "outputs": [],
   "source": [
    "df_num = df[numerical]\n",
    "df_num"
   ]
  },
  {
   "cell_type": "code",
   "execution_count": null,
   "metadata": {},
   "outputs": [],
   "source": [
    "df_num.info()"
   ]
  },
  {
   "cell_type": "code",
   "execution_count": null,
   "metadata": {},
   "outputs": [],
   "source": [
    "# See missing values using isnull\n",
    "df_num.isnull().sum()"
   ]
  },
  {
   "cell_type": "code",
   "execution_count": null,
   "metadata": {},
   "outputs": [],
   "source": [
    "# Impute missing values using mean\n",
    "df_num_imputed = df_num.fillna(df_num.mean())\n",
    "df_num_imputed.info()"
   ]
  },
  {
   "cell_type": "code",
   "execution_count": null,
   "metadata": {},
   "outputs": [],
   "source": [
    "# Alternatively drop missing values in df_num\n",
    "df_num_dropped = df_num.dropna()\n",
    "df_num_dropped.info()"
   ]
  },
  {
   "cell_type": "code",
   "execution_count": null,
   "metadata": {},
   "outputs": [],
   "source": [
    "df_num_imputed.describe()"
   ]
  },
  {
   "cell_type": "code",
   "execution_count": null,
   "metadata": {},
   "outputs": [],
   "source": [
    "df_num_dropped.describe()"
   ]
  },
  {
   "cell_type": "code",
   "execution_count": null,
   "metadata": {},
   "outputs": [],
   "source": [
    "# Correlation in numerial data\n",
    "# Assuming df_num is your DataFrame\n",
    "correlation_matrix = df_num_dropped.corr()\n",
    "\n",
    "# Create a heatmap of the correlation matrix\n",
    "plt.figure(figsize=(10, 8))\n",
    "sns.heatmap(correlation_matrix, annot=True, cmap='coolwarm', linewidths=0.5)\n",
    "\n",
    "# Set plot title\n",
    "plt.title('Correlation Coefficient Matrix')\n",
    "\n",
    "# Display the plot\n",
    "plt.show()\n"
   ]
  },
  {
   "cell_type": "code",
   "execution_count": null,
   "metadata": {},
   "outputs": [],
   "source": [
    "# Correlation in numerial data for imputed data\n",
    "# Assuming df_num is your DataFrame\n",
    "correlation_matrix = df_num_imputed.corr()\n",
    "\n",
    "# Create a heatmap of the correlation matrix\n",
    "plt.figure(figsize=(10, 8))\n",
    "sns.heatmap(correlation_matrix, annot=True, cmap='coolwarm', linewidths=0.5)\n",
    "\n",
    "# Set plot title\n",
    "plt.title('Correlation Coefficient Matrix')\n",
    "\n",
    "# Display the plot\n",
    "plt.show()"
   ]
  },
  {
   "cell_type": "markdown",
   "metadata": {},
   "source": [
    "The absence of calculated correlation values for certain variables, such as \"year,\" \"month,\" and \"weekend,\" in the correlation matrix is because these variables are categorical or binary variables.\n",
    "\n",
    "Correlation coefficients are typically used to measure the strength and direction of linear relationships between continuous variables. Since categorical variables do not have a natural ordering or numeric representation, it is not meaningful to calculate correlation coefficients between them.\n",
    "\n",
    "If you have categorical or binary variables in your dataset, it is common to calculate other types of association measures specific to categorical variables. Some commonly used measures for categorical variables include chi-square test, Cramer's V, and point biserial correlation."
   ]
  },
  {
   "cell_type": "code",
   "execution_count": null,
   "metadata": {},
   "outputs": [],
   "source": [
    "# Checking subcategories for numerical variables to see if some integer valued variables are actually categorical\n",
    "for column in df_num:\n",
    "    num_categories = df_num_imputed[column].nunique()\n",
    "    print(f\"Number of categories in {column}: {num_categories}\")"
   ]
  },
  {
   "cell_type": "code",
   "execution_count": null,
   "metadata": {},
   "outputs": [],
   "source": [
    "# Because there is only one distinct category in some numeric variables we will remove them from our data\n",
    "\n",
    "#Drop one distinct numeric variables\n",
    "columns_to_remove = ['year', 'month', 'weekend', 'holiday', 'nnights']\n",
    "df_num_dropped = df_num_imputed.drop(columns=columns_to_remove)\n",
    "df_num_dropped"
   ]
  },
  {
   "cell_type": "code",
   "execution_count": null,
   "metadata": {},
   "outputs": [],
   "source": [
    "df_num_dropped.info()"
   ]
  },
  {
   "cell_type": "code",
   "execution_count": null,
   "metadata": {},
   "outputs": [],
   "source": [
    "# Correlation in numerial data for df_num_dropped data\n",
    "# Assuming df_num is your DataFrame\n",
    "correlation_matrix = df_num_dropped.corr()\n",
    "\n",
    "# Create a heatmap of the correlation matrix\n",
    "plt.figure(figsize=(10, 8))\n",
    "sns.heatmap(correlation_matrix, annot=True, cmap='coolwarm', linewidths=0.5)\n",
    "\n",
    "# Set plot title\n",
    "plt.title('Correlation Coefficient Matrix')\n",
    "\n",
    "# Display the plot\n",
    "plt.show()"
   ]
  },
  {
   "cell_type": "markdown",
   "metadata": {},
   "source": [
    "# Outliers in numerical variables"
   ]
  },
  {
   "cell_type": "code",
   "execution_count": null,
   "metadata": {},
   "outputs": [],
   "source": [
    "df_num_dropped.columns"
   ]
  },
  {
   "cell_type": "code",
   "execution_count": null,
   "metadata": {},
   "outputs": [],
   "source": [
    "# Define the numerical variables\n",
    "numerical_vars = ['distance', 'distance_alter', 'stars', 'rating', 'rating_count',\n",
    "                  'ratingta', 'ratingta_count', 'price']\n",
    "\n",
    "# Create subplots for histograms\n",
    "fig, axs = plt.subplots(1, len(numerical_vars), figsize=(12, 4))\n",
    "\n",
    "# Plot histograms for each numerical variable\n",
    "for i, var in enumerate(numerical_vars):\n",
    "    axs[i].hist(df_num_dropped[var], edgecolor='white', align='mid')\n",
    "    axs[i].set_xlabel(var)\n",
    "    axs[i].set_ylabel('Frequency')\n",
    "\n",
    "# Adjust spacing between subplots\n",
    "plt.tight_layout()\n",
    "\n",
    "# Display the plot\n",
    "plt.show()\n"
   ]
  },
  {
   "cell_type": "code",
   "execution_count": null,
   "metadata": {},
   "outputs": [],
   "source": [
    "# Define the numerical variables\n",
    "numerical_vars = ['distance', 'distance_alter', 'stars', 'rating', 'rating_count',\n",
    "                  'ratingta', 'ratingta_count', 'price']\n",
    "\n",
    "# Calculate the number of rows and columns for subplots\n",
    "num_plots = len(numerical_vars)\n",
    "num_rows = num_plots // 2\n",
    "num_cols = num_plots % 2\n",
    "\n",
    "# Create subplots for histograms\n",
    "fig, axs = plt.subplots(num_rows, 2, figsize=(12, 4 * num_rows))\n",
    "\n",
    "# Flatten the axs array if there is only one row\n",
    "if num_rows == 1:\n",
    "    axs = axs.reshape(1, -1)\n",
    "\n",
    "# Plot histograms for each numerical variable\n",
    "for i, var in enumerate(numerical_vars):\n",
    "    row = i // 2\n",
    "    col = i % 2\n",
    "    axs[row, col].hist(df_num_dropped[var], edgecolor='white', align='mid')\n",
    "    axs[row, col].set_xlabel(var)\n",
    "    axs[row, col].set_ylabel('Frequency')\n",
    "\n",
    "# Adjust spacing between subplots\n",
    "plt.tight_layout()\n",
    "\n",
    "# Display the plot\n",
    "plt.show()\n"
   ]
  },
  {
   "cell_type": "code",
   "execution_count": null,
   "metadata": {},
   "outputs": [],
   "source": [
    "# Define the numerical variables\n",
    "numerical_vars = ['distance', 'distance_alter', 'stars', 'rating', 'rating_count',\n",
    "                  'ratingta', 'ratingta_count', 'price']\n",
    "\n",
    "# Create subplots for histograms and box plots\n",
    "fig, axs = plt.subplots(len(numerical_vars), 2, figsize=(12, 4 * len(numerical_vars)))\n",
    "\n",
    "# Plot histograms and box plots for each numerical variable\n",
    "for i, var in enumerate(numerical_vars):\n",
    "    # Plot histogram\n",
    "    axs[i, 0].hist(df_num_dropped[var], edgecolor='white', align='mid')\n",
    "    axs[i, 0].set_xlabel(var)\n",
    "    axs[i, 0].set_ylabel('Frequency')\n",
    "\n",
    "    # Plot box plot\n",
    "    axs[i, 1].boxplot(df_num_dropped[var], vert=False)\n",
    "    axs[i, 1].set_xlabel(var)\n",
    "    axs[i, 1].set_yticklabels([])\n",
    "\n",
    "# Adjust spacing between subplots\n",
    "plt.tight_layout()\n",
    "\n",
    "# Display the plot\n",
    "plt.show()\n"
   ]
  },
  {
   "cell_type": "code",
   "execution_count": null,
   "metadata": {},
   "outputs": [],
   "source": [
    "# Define the numerical variables\n",
    "numerical_vars = ['distance', 'distance_alter', 'stars', 'rating', 'rating_count',\n",
    "                  'ratingta', 'ratingta_count', 'price']\n",
    "\n",
    "# Create subplots for box plots\n",
    "plt.figure(figsize=(15, 10))\n",
    "\n",
    "for i, var in enumerate(numerical_vars):\n",
    "    plt.subplot(3, 3, i+1)\n",
    "    boxplot = df_num_dropped.boxplot(column=var)\n",
    "    boxplot.set_title(var)\n",
    "    boxplot.set_ylabel('')\n",
    "\n",
    "# Adjust spacing between subplots\n",
    "plt.tight_layout()\n",
    "\n",
    "# Display the plot\n",
    "plt.show()\n"
   ]
  },
  {
   "cell_type": "code",
   "execution_count": null,
   "metadata": {},
   "outputs": [],
   "source": [
    "from sklearn.preprocessing import MinMaxScaler, StandardScaler\n",
    "# Define the numerical variables\n",
    "numerical_vars = ['distance', 'distance_alter', 'stars', 'rating', 'rating_count',\n",
    "                  'ratingta', 'ratingta_count', 'price']\n",
    "\n",
    "# Apply Winsorization to reduce outliers\n",
    "winsorized_df = df_num_dropped.copy()\n",
    "for var in numerical_vars:\n",
    "    q_low = df_num_dropped[var].quantile(0.01)\n",
    "    q_high = df_num_dropped[var].quantile(0.99)\n",
    "    winsorized_df[var] = df_num_dropped[var].clip(q_low, q_high)\n",
    "\n",
    "# Apply scaling to the winsorized DataFrame\n",
    "scaler = MinMaxScaler()  # or StandardScaler()\n",
    "scaled_df = pd.DataFrame(scaler.fit_transform(winsorized_df[numerical_vars]), columns=numerical_vars)\n",
    "\n",
    "# Display the scaled DataFrame\n",
    "print(scaled_df)"
   ]
  },
  {
   "cell_type": "code",
   "execution_count": null,
   "metadata": {},
   "outputs": [],
   "source": [
    "# Define the numerical variables\n",
    "numerical_vars = ['distance', 'distance_alter', 'stars', 'rating', 'rating_count',\n",
    "                  'ratingta', 'ratingta_count', 'price']\n",
    "\n",
    "# Create subplots for histograms\n",
    "fig, axs = plt.subplots(2, 4, figsize=(12, 8))\n",
    "axs = axs.flatten()\n",
    "\n",
    "# Plot histograms for each variable\n",
    "for i, var in enumerate(numerical_vars):\n",
    "    axs[i].hist(scaled_df[var], bins=10, edgecolor='white', align='mid')\n",
    "    axs[i].set_xlabel(var)\n",
    "    axs[i].set_ylabel('Frequency')\n",
    "\n",
    "# Adjust spacing between subplots\n",
    "plt.tight_layout()\n",
    "\n",
    "# Display the plot\n",
    "plt.show()\n"
   ]
  },
  {
   "cell_type": "code",
   "execution_count": null,
   "metadata": {},
   "outputs": [],
   "source": [
    "# Define the numerical variables\n",
    "numerical_vars = ['distance', 'distance_alter', 'stars', 'rating', 'rating_count',\n",
    "                  'ratingta', 'ratingta_count', 'price']\n",
    "\n",
    "# Create subplots for box plots\n",
    "plt.figure(figsize=(15, 10))\n",
    "\n",
    "for i, var in enumerate(numerical_vars):\n",
    "    plt.subplot(3, 3, i+1)\n",
    "    boxplot = scaled_df.boxplot(column=var)\n",
    "    boxplot.set_title(var)\n",
    "    boxplot.set_ylabel('')\n",
    "\n",
    "# Adjust spacing between subplots\n",
    "plt.tight_layout()\n",
    "\n",
    "# Display the plot\n",
    "plt.show()"
   ]
  },
  {
   "cell_type": "code",
   "execution_count": null,
   "metadata": {},
   "outputs": [],
   "source": [
    "# To see if there is difference in distribution after droping outliers we will drop outliers remained out of the first and third quantiles\n",
    "Q1 = scaled_df.quantile(0.25)\n",
    "Q3 = scaled_df.quantile(0.75)\n",
    "IQR = Q3 - Q1\n",
    "scaled_df = scaled_df[~((scaled_df < (Q1 - 1.5 * IQR)) | (scaled_df > (Q3 + 1.5 * IQR))).any(axis=1)]"
   ]
  },
  {
   "cell_type": "code",
   "execution_count": null,
   "metadata": {},
   "outputs": [],
   "source": [
    "# Check outliers using box plots again after droping outliers\n",
    "# Define the numerical variables\n",
    "numerical_vars = ['distance', 'distance_alter', 'stars', 'rating', 'rating_count',\n",
    "                  'ratingta', 'ratingta_count', 'price']\n",
    "\n",
    "# Create subplots for box plots\n",
    "plt.figure(figsize=(15, 10))\n",
    "\n",
    "for i, var in enumerate(numerical_vars):\n",
    "    plt.subplot(3, 3, i+1)\n",
    "    boxplot = scaled_df.boxplot(column=var)\n",
    "    boxplot.set_title(var)\n",
    "    boxplot.set_ylabel('')\n",
    "\n",
    "# Adjust spacing between subplots\n",
    "plt.tight_layout()\n",
    "\n",
    "# Display the plot\n",
    "plt.show()"
   ]
  },
  {
   "cell_type": "code",
   "execution_count": null,
   "metadata": {},
   "outputs": [],
   "source": [
    "scaled_df.info()"
   ]
  },
  {
   "cell_type": "code",
   "execution_count": null,
   "metadata": {},
   "outputs": [],
   "source": [
    "scaled_df"
   ]
  },
  {
   "cell_type": "code",
   "execution_count": null,
   "metadata": {},
   "outputs": [],
   "source": [
    "# To drop index and create new one\n",
    "scaled_df = scaled_df.reset_index(drop=True)\n",
    "scaled_df"
   ]
  },
  {
   "cell_type": "code",
   "execution_count": null,
   "metadata": {},
   "outputs": [],
   "source": [
    "# Create subplots for histograms\n",
    "fig, axs = plt.subplots(2, 4, figsize=(12, 8))\n",
    "axs = axs.flatten()\n",
    "\n",
    "# Plot histograms for each variable\n",
    "for i, var in enumerate(numerical_vars):\n",
    "    axs[i].hist(scaled_df[var], bins=10, edgecolor='white', align='mid')\n",
    "    axs[i].set_xlabel(var)\n",
    "    axs[i].set_ylabel('Frequency')\n",
    "\n",
    "# Adjust spacing between subplots\n",
    "plt.tight_layout()\n",
    "\n",
    "# Display the plot\n",
    "plt.show()"
   ]
  },
  {
   "cell_type": "code",
   "execution_count": null,
   "metadata": {},
   "outputs": [],
   "source": [
    "# Plotting the relationship between price and distance\n",
    "sns.scatterplot(data=scaled_df, x='distance', y='price')\n",
    "plt.xlabel('Distance')\n",
    "plt.ylabel('Price')\n",
    "plt.title('Relationship between Price and Distance')\n",
    "plt.show()\n"
   ]
  },
  {
   "cell_type": "code",
   "execution_count": null,
   "metadata": {},
   "outputs": [],
   "source": [
    "# Plotting the relationship between price and distance\n",
    "sns.regplot(data=scaled_df, x='distance', y='price', scatter_kws={'alpha': 0.5}, line_kws={'color': 'red'})\n",
    "plt.xlabel('Distance')\n",
    "plt.ylabel('Price')\n",
    "plt.title('Relationship between Price and Distance')\n",
    "plt.show()\n"
   ]
  },
  {
   "cell_type": "code",
   "execution_count": null,
   "metadata": {},
   "outputs": [],
   "source": [
    "# Create a joint plot for price and distance\n",
    "sns.jointplot(data=scaled_df, x='distance', y='price', kind='reg', height=6, ratio=3)\n",
    "plt.xlabel('Distance')\n",
    "plt.ylabel('Price')\n",
    "plt.title('Relationship between Price and Distance')\n",
    "plt.show()\n"
   ]
  },
  {
   "cell_type": "code",
   "execution_count": null,
   "metadata": {},
   "outputs": [],
   "source": [
    "# Create a joint plot for price and rating\n",
    "sns.jointplot(data=scaled_df, x='rating', y='price', kind='reg', height=6, ratio=3)\n",
    "plt.xlabel('Rating')\n",
    "plt.ylabel('Price')\n",
    "plt.title('Relationship between Price and Rating')\n",
    "plt.show()\n"
   ]
  },
  {
   "cell_type": "code",
   "execution_count": null,
   "metadata": {},
   "outputs": [],
   "source": [
    "# Create joint plots for price and rating_count\n",
    "sns.jointplot(data=scaled_df, x='rating_count', y='price', kind='reg', height=6, ratio=3)\n",
    "plt.xlabel('Rating Count')\n",
    "plt.ylabel('Price')\n",
    "plt.title('Relationship between Price and Rating Count')\n",
    "plt.show()\n",
    "\n",
    "# Create joint plots for price and ratingta_count\n",
    "sns.jointplot(data=scaled_df, x='ratingta_count', y='price', kind='reg', height=6, ratio=3)\n",
    "plt.xlabel('RatingTA Count')\n",
    "plt.ylabel('Price')\n",
    "plt.title('Relationship between Price and RatingTA Count')\n",
    "plt.show()\n"
   ]
  },
  {
   "cell_type": "code",
   "execution_count": null,
   "metadata": {},
   "outputs": [],
   "source": [
    "# Create joint plots for price and star\n",
    "sns.jointplot(data=scaled_df, x='stars', y='price', kind='reg', height=6, ratio=3)\n",
    "plt.xlabel('Stars')\n",
    "plt.ylabel('Price')\n",
    "plt.title('Relationship between Price and Stars')\n",
    "plt.show()"
   ]
  },
  {
   "cell_type": "code",
   "execution_count": null,
   "metadata": {},
   "outputs": [],
   "source": []
  },
  {
   "cell_type": "code",
   "execution_count": null,
   "metadata": {},
   "outputs": [],
   "source": []
  },
  {
   "cell_type": "code",
   "execution_count": null,
   "metadata": {},
   "outputs": [],
   "source": []
  },
  {
   "cell_type": "markdown",
   "metadata": {},
   "source": [
    "# Finding categorical variables and feature engineering for categorical variables"
   ]
  },
  {
   "cell_type": "code",
   "execution_count": null,
   "metadata": {},
   "outputs": [],
   "source": [
    "categorical_columns = df.select_dtypes(include=['object']).columns\n",
    "print(categorical_columns)"
   ]
  },
  {
   "cell_type": "code",
   "execution_count": null,
   "metadata": {},
   "outputs": [],
   "source": [
    "# find categorical variables\n",
    "categorical_columns = list(df.select_dtypes(include=['object']).columns)\n",
    "for column in categorical_columns:\n",
    "    print(column)"
   ]
  },
  {
   "cell_type": "code",
   "execution_count": null,
   "metadata": {},
   "outputs": [],
   "source": [
    "# find categorical variables\n",
    "categorical = [var for var in df.columns if df[var].dtype=='O']\n",
    "print('There are {} categorical variables\\n'.format(len(categorical)))\n",
    "print('The categorical variables are :', categorical)"
   ]
  },
  {
   "cell_type": "code",
   "execution_count": null,
   "metadata": {},
   "outputs": [],
   "source": [
    "categorical.info()"
   ]
  },
  {
   "cell_type": "code",
   "execution_count": null,
   "metadata": {},
   "outputs": [],
   "source": [
    "categorical()"
   ]
  },
  {
   "cell_type": "markdown",
   "metadata": {},
   "source": [
    "# To create a new DataFrame, df_cat, containing only the categorical variables from your original DataFrame, you can use the loc accessor to select the desired columns."
   ]
  },
  {
   "cell_type": "code",
   "execution_count": null,
   "metadata": {},
   "outputs": [],
   "source": [
    "# Create categorical variables df\n",
    "categorical_columns = df.select_dtypes(include=['object']).columns\n",
    "df_cat = df.loc[:, categorical_columns]\n",
    "df_cat"
   ]
  },
  {
   "cell_type": "markdown",
   "metadata": {},
   "source": [
    "# In the code above, categorical_columns is assigned the column names of the categorical variables using select_dtypes(include=['object']). Then, df.loc[:, categorical_columns] selects all rows (:) and the columns specified in categorical_columns, creating a new DataFrame, df_cat, containing only the categorical variables."
   ]
  },
  {
   "cell_type": "code",
   "execution_count": null,
   "metadata": {},
   "outputs": [],
   "source": [
    "# Get info\n",
    "df_cat.info()"
   ]
  },
  {
   "cell_type": "code",
   "execution_count": null,
   "metadata": {},
   "outputs": [],
   "source": [
    "# Checking subcategories \n",
    "for column in df_cat:\n",
    "    num_categories = df_cat[column].nunique()\n",
    "    print(f\"Number of categories in {column}: {num_categories}\")"
   ]
  },
  {
   "cell_type": "code",
   "execution_count": null,
   "metadata": {},
   "outputs": [],
   "source": [
    "#Drop one distinct category variables\n",
    "columns_to_remove = ['country', 'city', 'center1label', 'center2label']\n",
    "df_cat_dropped = df_cat.drop(columns=columns_to_remove)\n",
    "df_cat_dropped"
   ]
  },
  {
   "cell_type": "code",
   "execution_count": null,
   "metadata": {},
   "outputs": [],
   "source": [
    "# Step 1: Calculate the count and percentage of each category in df_cat_dropped.\n",
    "category_counts = df_cat_dropped.apply(pd.Series.value_counts)\n",
    "category_percentages = category_counts / len(df_cat_dropped) * 100"
   ]
  },
  {
   "cell_type": "code",
   "execution_count": null,
   "metadata": {},
   "outputs": [],
   "source": [
    "#Step 2: Plot the histograms to visualize the frequency of each category.\n",
    "import matplotlib.pyplot as plt\n",
    "\n",
    "fig, axs = plt.subplots(len(df_cat_dropped.columns), figsize=(10, 6 * len(df_cat_dropped.columns)))\n",
    "\n",
    "for i, column in enumerate(df_cat_dropped.columns):\n",
    "    ax = axs[i]\n",
    "    ax.bar(category_counts.index, category_counts[column])\n",
    "    ax.set_xlabel(column)\n",
    "    ax.set_ylabel('Count')\n",
    "    ax.set_title(f'Category Frequencies - {column}')\n",
    "    ax2 = ax.twinx()\n",
    "    ax2.plot(category_counts.index, category_percentages[column], color='red', marker='o')\n",
    "    ax2.set_ylabel('Percentage')\n",
    "    ax2.set_ylim(0, 100)\n",
    "    ax2.grid(False)\n",
    "    for tick in ax.get_xticklabels():\n",
    "        tick.set_rotation(90)\n",
    "\n",
    "plt.tight_layout()\n",
    "plt.show()"
   ]
  },
  {
   "cell_type": "code",
   "execution_count": null,
   "metadata": {},
   "outputs": [],
   "source": [
    "#A Different way to visualize the distribution for categorical variables\n",
    "# Set up the figure and axes\n",
    "fig, axs = plt.subplots(len(df_cat_dropped.columns), figsize=(10, 6 * len(df_cat_dropped.columns)))\n",
    "\n",
    "# Iterate over each categorical column\n",
    "for i, column in enumerate(df_cat_dropped.columns):\n",
    "    # Calculate value counts and percentages\n",
    "    value_counts = df_cat_dropped[column].value_counts()\n",
    "    percentages = value_counts / len(df_cat_dropped) * 100\n",
    "\n",
    "    # Plot the bar chart\n",
    "    axs[i].bar(value_counts.index, value_counts.values)\n",
    "    axs[i].set_xlabel(column)\n",
    "    axs[i].set_ylabel('Count')\n",
    "    axs[i].set_title(f'Category Frequencies - {column}')\n",
    "\n",
    "    # Add percentage labels\n",
    "    for j, count in enumerate(value_counts):\n",
    "        axs[i].text(j, count, f'{count} ({percentages[j]:.2f}%)', ha='center', va='bottom')\n",
    "\n",
    "# Adjust spacing between subplots\n",
    "plt.tight_layout()\n",
    "\n",
    "# Show the plot\n",
    "plt.show()\n"
   ]
  },
  {
   "cell_type": "code",
   "execution_count": null,
   "metadata": {},
   "outputs": [],
   "source": [
    "#Another way\n",
    "# Calculate category frequencies and percentages\n",
    "category_counts = df_cat_dropped.apply(pd.Series.value_counts)\n",
    "category_percentages = category_counts / len(df_cat_dropped) * 100\n",
    "\n",
    "# Set up the figure and axes\n",
    "fig, axs = plt.subplots(len(df_cat_dropped.columns), figsize=(10, 6 * len(df_cat_dropped.columns)))\n",
    "\n",
    "# Iterate over each categorical column\n",
    "for i, column in enumerate(df_cat_dropped.columns):\n",
    "    # Create a stacked bar chart\n",
    "    sns.countplot(data=df_cat_dropped, x=column, ax=axs[i])\n",
    "    axs[i].set_xlabel(column)\n",
    "    axs[i].set_ylabel('Count')\n",
    "    axs[i].set_title(f'Category Frequencies - {column}')\n",
    "    \n",
    "    # Add percentage labels to each bar\n",
    "    total_count = len(df_cat_dropped[column])\n",
    "    for p in axs[i].patches:\n",
    "        height = p.get_height()\n",
    "        axs[i].text(p.get_x() + p.get_width() / 2,\n",
    "                    height + 3,\n",
    "                    f'{height} ({height / total_count * 100:.2f}%)',\n",
    "                    ha='center')\n",
    "\n",
    "# Adjust spacing between subplots\n",
    "plt.tight_layout()\n",
    "\n",
    "# Show the plot\n",
    "plt.show()\n"
   ]
  },
  {
   "cell_type": "code",
   "execution_count": null,
   "metadata": {},
   "outputs": [],
   "source": [
    "# Encoding for categorical variables\n",
    "# Perform one-hot encoding for nominal variables\n",
    "df_encoded = pd.get_dummies(df_cat_dropped, columns=['accommodation_type', 'city_actual', 'neighbourhood', 'offer_cat'])\n",
    "df_encoded.info()"
   ]
  },
  {
   "cell_type": "code",
   "execution_count": null,
   "metadata": {},
   "outputs": [],
   "source": [
    "# Set the style for the plot\n",
    "sns.set(style='ticks')\n",
    "\n",
    "# Plot histogram distributions for each variable in df_encoded\n",
    "df_encoded.hist(figsize=(10, 8), bins=10, edgecolor='black', grid=False)\n",
    "\n",
    "# Adjust the layout\n",
    "plt.tight_layout()\n",
    "\n",
    "# Show the plot\n",
    "plt.show()\n"
   ]
  },
  {
   "cell_type": "code",
   "execution_count": null,
   "metadata": {},
   "outputs": [],
   "source": [
    "# Distribute 0s and 1s to make a decision on which variable is winner, which variable is loser \n",
    "# Calculate the percentage of zeros and ones for each variable\n",
    "percentage_zeros = (df_encoded == 0).mean() * 100\n",
    "percentage_ones = (df_encoded == 1).mean() * 100\n",
    "\n",
    "# Set the style for the plot\n",
    "sns.set(style='ticks')\n",
    "\n",
    "# Create a figure and axes for the plot\n",
    "fig, ax = plt.subplots(figsize=(10, 8))\n",
    "\n",
    "# Plot the histogram distributions for zeros and ones\n",
    "ax.bar(percentage_zeros.index, percentage_zeros, label='Zeros', alpha=0.7)\n",
    "ax.bar(percentage_ones.index, percentage_ones, bottom=percentage_zeros, label='Ones', alpha=0.7)\n",
    "\n",
    "# Set the labels and title\n",
    "ax.set_xlabel('Variables')\n",
    "ax.set_ylabel('Percentage')\n",
    "ax.set_title('Percentage Distribution of Zeros and Ones for Each Categorical Variable')\n",
    "\n",
    "# Rotate x-axis labels if needed\n",
    "plt.xticks(rotation=45)\n",
    "\n",
    "# Add a legend\n",
    "ax.legend()\n",
    "\n",
    "# Show the plot\n",
    "plt.tight_layout()\n",
    "plt.show()\n"
   ]
  },
  {
   "cell_type": "code",
   "execution_count": null,
   "metadata": {},
   "outputs": [],
   "source": [
    "# An example to visualize a relationship between two categorical variables using sns \n",
    "# Set the style for the plot\n",
    "sns.set(style='ticks')\n",
    "\n",
    "# Create the plot\n",
    "ax = sns.regplot(x=\"accommodation_type_Hotel\", y=\"city_actual_Fischamend\", data=df_encoded, x_estimator=np.mean)\n",
    "plt.title('Relationship between city_actual_Fischamend and accommodation_type')\n",
    "\n",
    "# Show the plot\n",
    "plt.show()\n"
   ]
  },
  {
   "cell_type": "code",
   "execution_count": null,
   "metadata": {},
   "outputs": [],
   "source": [
    "# An example to create histogram for one categorical variable to see the distribution of 0s and 1s\n",
    "# Create a histogram of the 'neighbourhood_Wahring' column\n",
    "plt.hist(df_encoded['offer_cat_15-50% offer'], bins=10)\n",
    "\n",
    "# Set labels and title\n",
    "plt.xlabel('offer_cat_15-50% offer')\n",
    "plt.ylabel('Frequency')\n",
    "plt.title('Distribution of offer_cat_15-50% offer')\n",
    "\n",
    "# Show the plot\n",
    "plt.show()"
   ]
  },
  {
   "cell_type": "code",
   "execution_count": null,
   "metadata": {},
   "outputs": [],
   "source": [
    "# An example to create histogram for one categorical variable to see the distribution of 0s and 1s\n",
    "# Create a histogram of the 'neighbourhood_Wahring' column\n",
    "plt.hist(df_encoded['neighbourhood_Wahring'], bins=10)\n",
    "\n",
    "# Set labels and title\n",
    "plt.xlabel('neighbourhood_Wahring')\n",
    "plt.ylabel('Frequency')\n",
    "plt.title('Distribution of neighbourhood_Wahring')\n",
    "\n",
    "# Show the plot\n",
    "plt.show()"
   ]
  },
  {
   "cell_type": "markdown",
   "metadata": {},
   "source": [
    "# Finding outliers for variables"
   ]
  },
  {
   "cell_type": "code",
   "execution_count": null,
   "metadata": {},
   "outputs": [],
   "source": [
    "# view summary statistics in numerical variables\n",
    "print(df_encoded.describe(include = 'all'))"
   ]
  },
  {
   "cell_type": "code",
   "execution_count": null,
   "metadata": {},
   "outputs": [],
   "source": [
    "# Set up the subplots\n",
    "fig, axs = plt.subplots(5, 8, figsize=(15, 10))\n",
    "fig.suptitle('Boxplots for Each Variable')\n",
    "\n",
    "# Loop through the columns and plot boxplots\n",
    "for i, column in enumerate(df_encoded):\n",
    "    ax = axs[i // 8, i % 8]\n",
    "    ax.boxplot(df_encoded[column])\n",
    "    ax.set_title(column, fontsize=8)\n",
    "    ax.set_xticklabels([])\n",
    "    ax.tick_params(axis='x', which='both', bottom=False, top=False)\n",
    "\n",
    "# Adjust the layout and spacing\n",
    "fig.tight_layout(rect=[0, 0, 1, 0.95])\n",
    "\n",
    "# Show the plot\n",
    "plt.show()\n"
   ]
  },
  {
   "cell_type": "code",
   "execution_count": null,
   "metadata": {},
   "outputs": [],
   "source": [
    "df = df.filter(\n",
    "    [\n",
    "        \"hotel_id\",\n",
    "        \"accommodation_type\",\n",
    "        \"country\",\n",
    "        \"city\",\n",
    "        \"city_actual\",\n",
    "        \"center1label\",\n",
    "        \"distance\",\n",
    "        \"stars\",\n",
    "        \"rating\",\n",
    "        \"price\",\n",
    "    ]\n",
    ")"
   ]
  },
  {
   "cell_type": "markdown",
   "metadata": {},
   "source": [
    "### Table 1.1"
   ]
  },
  {
   "cell_type": "code",
   "execution_count": null,
   "metadata": {},
   "outputs": [],
   "source": [
    "df.head()"
   ]
  },
  {
   "cell_type": "code",
   "execution_count": null,
   "metadata": {},
   "outputs": [],
   "source": [
    "# Calculate the IQR\n",
    "IQR = df['price'].quantile(0.75) - df['price'].quantile(0.25)\n",
    "\n",
    "# Calculate the lower and upper fences\n",
    "Lower_fence = df['price'].quantile(0.25) - (IQR * 1.5)\n",
    "Upper_fence = df['price'].quantile(0.75) + (IQR * 1.5)\n",
    "\n",
    "# Identify price outliers\n",
    "outliers = df[(df['price'] < Lower_fence) | (df['price'] > Upper_fence)]\n",
    "\n",
    "# Print the outlier information\n",
    "print(\"Price outliers are values < {lowerboundary} or > {upperboundary}\".format(\n",
    "    lowerboundary=Lower_fence, upperboundary=Upper_fence))\n",
    "print(outliers)"
   ]
  },
  {
   "cell_type": "code",
   "execution_count": null,
   "metadata": {},
   "outputs": [],
   "source": [
    "import pandas as pd\n",
    "import matplotlib.pyplot as plt\n",
    "\n",
    "# Assuming you have the DataFrame named 'df'\n",
    "\n",
    "# Create a box plot to visualize the 'price' column\n",
    "plt.boxplot(df['price'], vert=False, sym='r')\n",
    "\n",
    "# Calculate the IQR and fences\n",
    "IQR = df['price'].quantile(0.75) - df['price'].quantile(0.25)\n",
    "Lower_fence = df['price'].quantile(0.25) - (IQR * 1.5)\n",
    "Upper_fence = df['price'].quantile(0.75) + (IQR * 1.5)\n",
    "\n",
    "# Identify price outliers\n",
    "outliers = df[(df['price'] < Lower_fence) | (df['price'] > Upper_fence)]\n",
    "\n",
    "# Add red markers for outliers on the box plot\n",
    "plt.plot(outliers['price'], [1] * len(outliers), 'ro', label='Outliers')\n",
    "\n",
    "# Set labels and title\n",
    "plt.xlabel('Price')\n",
    "plt.title('Distribution of Price with Outliers')\n",
    "\n",
    "# Show the legend\n",
    "plt.legend()\n",
    "\n",
    "# Show the plot\n",
    "plt.show()\n"
   ]
  },
  {
   "cell_type": "code",
   "execution_count": null,
   "metadata": {},
   "outputs": [],
   "source": [
    "import pandas as pd\n",
    "import matplotlib.pyplot as plt\n",
    "\n",
    "# Assuming you have the DataFrame named 'df'\n",
    "\n",
    "# Get the numeric columns from the DataFrame\n",
    "numeric_columns = df.select_dtypes(include=['float', 'int']).columns\n",
    "\n",
    "# Iterate over each numeric column in the DataFrame\n",
    "for column in numeric_columns:\n",
    "    # Create a box plot for the current column\n",
    "    plt.boxplot(df[column], vert=False, sym='r')\n",
    "\n",
    "    # Set labels and title\n",
    "    plt.xlabel(column)\n",
    "    plt.title(f\"Distribution of {column} with Outliers\")\n",
    "\n",
    "    # Show the plot\n",
    "    plt.show()\n",
    "\n"
   ]
  },
  {
   "cell_type": "code",
   "execution_count": null,
   "metadata": {},
   "outputs": [],
   "source": [
    "# Display the first few rows of the DataFrame\n",
    "print(df.head())\n",
    "\n",
    "# Summary statistics\n",
    "print(df.describe())\n",
    "\n",
    "# Data types and missing values\n",
    "print(df.info())\n",
    "\n",
    "# Distribution of accommodation types\n",
    "plt.figure(figsize=(8, 6))\n",
    "sns.countplot(data=df, x='accommodation_type')\n",
    "plt.title('Distribution of Accommodation Types')\n",
    "plt.show()\n",
    "\n",
    "# Distribution of stars\n",
    "plt.figure(figsize=(8, 6))\n",
    "sns.countplot(data=df, x='stars')\n",
    "plt.title('Distribution of Stars')\n",
    "plt.show()\n",
    "\n",
    "# Correlation heatmap\n",
    "correlation = df.corr()\n",
    "plt.figure(figsize=(10, 8))\n",
    "sns.heatmap(correlation, annot=True, cmap='coolwarm')\n",
    "plt.title('Correlation Heatmap')\n",
    "plt.show()\n",
    "\n",
    "# Scatter plot of price vs. rating\n",
    "plt.figure(figsize=(8, 6))\n",
    "sns.scatterplot(data=df, x='price', y='rating')\n",
    "plt.title('Price vs. Rating')\n",
    "plt.show()\n"
   ]
  },
  {
   "cell_type": "code",
   "execution_count": null,
   "metadata": {},
   "outputs": [],
   "source": [
    "# Display the data types of each column in the DataFrame\n",
    "print(df.dtypes)\n",
    "\n",
    "# Separate categorical and numerical variables\n",
    "categorical_vars = df.select_dtypes(include='object').columns\n",
    "numerical_vars = df.select_dtypes(include=['int', 'float']).columns\n",
    "\n",
    "# Print the categorical variables\n",
    "print('Categorical Variables:')\n",
    "print(categorical_vars)\n",
    "\n",
    "# Print the numerical variables\n",
    "print('Numerical Variables:')\n",
    "print(numerical_vars)\n"
   ]
  },
  {
   "cell_type": "code",
   "execution_count": null,
   "metadata": {},
   "outputs": [],
   "source": [
    "# Display the count of missing values in each categorical variable\n",
    "categorical_vars = df.select_dtypes(include='object').columns\n",
    "missing_counts = df[categorical_vars].isnull().sum()\n",
    "print('Missing Value Counts:')\n",
    "print(missing_counts)\n",
    "\n",
    "# Visualize the frequency distribution of each categorical variable\n",
    "plt.figure(figsize=(12, 8))\n",
    "for i, var in enumerate(categorical_vars):\n",
    "    plt.subplot(2, 3, i+1)\n",
    "    sns.countplot(data=df, x=var)\n",
    "    plt.title('Frequency Distribution of {}'.format(var))\n",
    "    plt.xticks(rotation=45)\n",
    "plt.tight_layout()\n",
    "plt.show()\n",
    "\n",
    "# Identify potential outliers in categorical variables\n",
    "outlier_vars = []\n",
    "for var in categorical_vars:\n",
    "    value_counts = df[var].value_counts()\n",
    "    if len(value_counts) <= 2:\n",
    "        continue\n",
    "    top_value_count = value_counts.iloc[0]\n",
    "    outlier_threshold = top_value_count * 0.95\n",
    "    if any(value_counts < outlier_threshold):\n",
    "        outlier_vars.append(var)\n",
    "\n",
    "print('Potential Outlier Variables:')\n",
    "print(outlier_vars)\n"
   ]
  },
  {
   "cell_type": "code",
   "execution_count": null,
   "metadata": {},
   "outputs": [],
   "source": [
    "# Display the count of missing values in each numerical variable\n",
    "numerical_vars = df.select_dtypes(include=['int', 'float']).columns\n",
    "missing_counts = df[numerical_vars].isnull().sum()\n",
    "print('Missing Value Counts:')\n",
    "print(missing_counts)\n",
    "\n",
    "# Summary statistics\n",
    "summary_stats = df[numerical_vars].describe()\n",
    "print('Summary Statistics:')\n",
    "print(summary_stats)\n",
    "\n",
    "# Visualize the distribution of each numerical variable\n",
    "plt.figure(figsize=(12, 8))\n",
    "for i, var in enumerate(numerical_vars):\n",
    "    plt.subplot(2, 3, i+1)\n",
    "    sns.distplot(df[var].dropna())\n",
    "    plt.title('Distribution of {}'.format(var))\n",
    "plt.tight_layout()\n",
    "plt.show()\n",
    "\n",
    "# Identify potential outliers in numerical variables\n",
    "outlier_vars = []\n",
    "for var in numerical_vars:\n",
    "    q1 = df[var].quantile(0.25)\n",
    "    q3 = df[var].quantile(0.75)\n",
    "    iqr = q3 - q1\n",
    "    lower_bound = q1 - 1.5 * iqr\n",
    "    upper_bound = q3 + 1.5 * iqr\n",
    "    outliers = df[(df[var] < lower_bound) | (df[var] > upper_bound)]\n",
    "    if len(outliers) > 0:\n",
    "        outlier_vars.append(var)\n",
    "\n",
    "print('Potential Outlier Variables:')\n",
    "print(outlier_vars)\n"
   ]
  },
  {
   "cell_type": "code",
   "execution_count": null,
   "metadata": {},
   "outputs": [],
   "source": [
    "# Remove outliers from the 'price' variable\n",
    "df = df[df['price'] <= 600]\n",
    "\n",
    "# Check the updated summary statistics\n",
    "print(df['price'].describe())\n"
   ]
  },
  {
   "cell_type": "code",
   "execution_count": null,
   "metadata": {},
   "outputs": [],
   "source": [
    "# Visualize the new distribution of 'price'\n",
    "plt.figure(figsize=(8, 6))\n",
    "sns.distplot(df['price'], kde=True)\n",
    "plt.title('Distribution of Price (Outliers Removed)')\n",
    "plt.show()\n"
   ]
  },
  {
   "cell_type": "code",
   "execution_count": null,
   "metadata": {},
   "outputs": [],
   "source": [
    "# Select the numerical columns from the DataFrame\n",
    "numeric_columns = df.select_dtypes(include=['float', 'int'])\n",
    "\n",
    "# Standardize the numerical variables\n",
    "scaler = StandardScaler()\n",
    "scaled_data = scaler.fit_transform(numeric_columns)\n",
    "\n",
    "# Convert the scaled_data to a DataFrame\n",
    "scaled_df = pd.DataFrame(data=scaled_data, columns=numeric_columns.columns)\n",
    "\n",
    "# Print the scaled DataFrame\n",
    "print(scaled_df.head())\n"
   ]
  },
  {
   "cell_type": "code",
   "execution_count": null,
   "metadata": {},
   "outputs": [],
   "source": []
  },
  {
   "cell_type": "code",
   "execution_count": null,
   "metadata": {},
   "outputs": [],
   "source": []
  },
  {
   "cell_type": "code",
   "execution_count": null,
   "metadata": {},
   "outputs": [],
   "source": []
  },
  {
   "cell_type": "code",
   "execution_count": null,
   "metadata": {},
   "outputs": [],
   "source": []
  }
 ],
 "metadata": {
  "kernelspec": {
   "display_name": "Python 3 (ipykernel)",
   "language": "python",
   "name": "python3"
  },
  "language_info": {
   "codemirror_mode": {
    "name": "ipython",
    "version": 3
   },
   "file_extension": ".py",
   "mimetype": "text/x-python",
   "name": "python",
   "nbconvert_exporter": "python",
   "pygments_lexer": "ipython3",
   "version": "3.9.15"
  },
  "vscode": {
   "interpreter": {
    "hash": "c01754e8627d0ea60fdf9a984fbf743943cf4db47884120dd04bfc512143b077"
   }
  }
 },
 "nbformat": 4,
 "nbformat_minor": 4
}
